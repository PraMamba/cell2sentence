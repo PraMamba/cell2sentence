{
 "cells": [
  {
   "cell_type": "markdown",
   "metadata": {},
   "source": [
    "# Tutorial notebook 6: Cell Type Annotation with C2S Foundation Model\n",
    "\n",
    "In this tutorial notebook, we demonstrate how to do cell type prediction on single-cell datasets using C2S models without having to finetune your own C2S model. We will do this by utilizing the C2S-Pythia-410M cell type prediction foundation model, which is a pretrained C2S model which was trained to do cell type prediction across many datasets. We will examine annotating cells in our dataset through the lens of this cell type annotation C2S model.\n",
    "\n",
    "This notebook will:\n",
    "1. Load an immune tissue single-cell dataset from Domínguez Conde et al. (preprocessed in tutorial notebook 0, two sample donors)\n",
    "    - Citation: Domínguez Conde, C., et al. \"Cross-tissue immune cell analysis reveals tissue-specific features in humans.\" Science 376.6594 (2022): eabl5197.\n",
    "2. Load a C2S model which was pretrained to do cell type annotation on many datasets\n",
    "3. Annotate a subset of cells in the single-cell dataset using the C2S model\n",
    "\n",
    "Let's get started!"
   ]
  },
  {
   "cell_type": "markdown",
   "metadata": {},
   "source": [
    "We will begin by importing the necessary libraries. These include Python's built-in libraries, third-party libraries for handling numerical computations, progress tracking, and specific libraries for single-cell RNA sequencing data and C2S operations."
   ]
  },
  {
   "cell_type": "code",
   "execution_count": 27,
   "metadata": {},
   "outputs": [],
   "source": [
    "# Python built-in libraries\n",
    "import os\n",
    "import pickle\n",
    "import random\n",
    "from collections import Counter\n",
    "\n",
    "# Third-party libraries\n",
    "import numpy as np\n",
    "from tqdm import tqdm\n",
    "\n",
    "# Single-cell libraries\n",
    "import anndata\n",
    "import scanpy as sc\n",
    "\n",
    "# Cell2Sentence imports\n",
    "import cell2sentence as cs\n",
    "from cell2sentence.tasks import predict_cell_types_of_data"
   ]
  },
  {
   "cell_type": "code",
   "execution_count": 28,
   "metadata": {},
   "outputs": [],
   "source": [
    "SEED = 1234\n",
    "random.seed(SEED)\n",
    "np.random.seed(SEED)"
   ]
  },
  {
   "cell_type": "markdown",
   "metadata": {},
   "source": [
    "# Load Data\n",
    "\n",
    "Next, we will load the preprocessed dataset from the tutorial 0. This dataset has already been filtered and normalized, so it it ready for transformation into cell sentences.\n",
    "\n",
    "<font color='red'>Please make sure you have completed the preprocessing steps in Tutorial 0 before running the following code, if you are using your own dataset.</font>. Ensure that the file path is correctly set in <font color='gold'>DATA_PATH</font> to where your preprocessed data was saved from tutorial 0."
   ]
  },
  {
   "cell_type": "code",
   "execution_count": 29,
   "metadata": {},
   "outputs": [],
   "source": [
    "DATA_PATH = \"/data/Mamba/Project/Single_Cell/Benchmark/Cell2Setence/Data/A013_processed_sampled_w_cell2sentence.h5ad\""
   ]
  },
  {
   "cell_type": "code",
   "execution_count": 30,
   "metadata": {},
   "outputs": [
    {
     "data": {
      "text/plain": [
       "AnnData object with n_obs × n_vars = 1000 × 14496\n",
       "    obs: 'donor_id', 'batch', 'sex', 'age', 'disease', 'cell_type', 'main_celltype', 'tissue', 'n_genes', 'n_genes_by_counts', 'total_counts', 'total_counts_mt', 'pct_counts_mt', 'organism'\n",
       "    var: 'gene_name', 'ensembl_id', 'n_cells', 'mt', 'n_cells_by_counts', 'mean_counts', 'pct_dropout_by_counts', 'total_counts'\n",
       "    uns: 'cell_type_colors', 'disease_colors', 'log1p', 'neighbors', 'pca', 'tissue_colors', 'umap'\n",
       "    obsm: 'X_pca', 'X_umap'\n",
       "    varm: 'PCs'\n",
       "    obsp: 'connectivities', 'distances'"
      ]
     },
     "execution_count": 30,
     "metadata": {},
     "output_type": "execute_result"
    }
   ],
   "source": [
    "adata = anndata.read_h5ad(DATA_PATH)\n",
    "adata"
   ]
  },
  {
   "cell_type": "code",
   "execution_count": 31,
   "metadata": {},
   "outputs": [],
   "source": [
    "adata.obs = adata.obs[[\"cell_type\", \"disease\", \"tissue\", \"organism\"]]"
   ]
  },
  {
   "cell_type": "code",
   "execution_count": 32,
   "metadata": {},
   "outputs": [
    {
     "data": {
      "text/html": [
       "<div>\n",
       "<style scoped>\n",
       "    .dataframe tbody tr th:only-of-type {\n",
       "        vertical-align: middle;\n",
       "    }\n",
       "\n",
       "    .dataframe tbody tr th {\n",
       "        vertical-align: top;\n",
       "    }\n",
       "\n",
       "    .dataframe thead th {\n",
       "        text-align: right;\n",
       "    }\n",
       "</style>\n",
       "<table border=\"1\" class=\"dataframe\">\n",
       "  <thead>\n",
       "    <tr style=\"text-align: right;\">\n",
       "      <th></th>\n",
       "      <th>cell_type</th>\n",
       "      <th>disease</th>\n",
       "      <th>tissue</th>\n",
       "      <th>organism</th>\n",
       "    </tr>\n",
       "  </thead>\n",
       "  <tbody>\n",
       "    <tr>\n",
       "      <th>1637</th>\n",
       "      <td>naive B cell</td>\n",
       "      <td>normal</td>\n",
       "      <td>blood</td>\n",
       "      <td>blood</td>\n",
       "    </tr>\n",
       "    <tr>\n",
       "      <th>3978</th>\n",
       "      <td>memory B cell</td>\n",
       "      <td>normal</td>\n",
       "      <td>blood</td>\n",
       "      <td>blood</td>\n",
       "    </tr>\n",
       "    <tr>\n",
       "      <th>8448</th>\n",
       "      <td>naive B cell</td>\n",
       "      <td>normal</td>\n",
       "      <td>blood</td>\n",
       "      <td>blood</td>\n",
       "    </tr>\n",
       "    <tr>\n",
       "      <th>11387</th>\n",
       "      <td>naive B cell</td>\n",
       "      <td>normal</td>\n",
       "      <td>blood</td>\n",
       "      <td>blood</td>\n",
       "    </tr>\n",
       "    <tr>\n",
       "      <th>11468</th>\n",
       "      <td>naive B cell</td>\n",
       "      <td>normal</td>\n",
       "      <td>blood</td>\n",
       "      <td>blood</td>\n",
       "    </tr>\n",
       "  </tbody>\n",
       "</table>\n",
       "</div>"
      ],
      "text/plain": [
       "           cell_type disease tissue organism\n",
       "1637    naive B cell  normal  blood    blood\n",
       "3978   memory B cell  normal  blood    blood\n",
       "8448    naive B cell  normal  blood    blood\n",
       "11387   naive B cell  normal  blood    blood\n",
       "11468   naive B cell  normal  blood    blood"
      ]
     },
     "execution_count": 32,
     "metadata": {},
     "output_type": "execute_result"
    }
   ],
   "source": [
    "adata.obs.head()"
   ]
  },
  {
   "cell_type": "code",
   "execution_count": 33,
   "metadata": {},
   "outputs": [
    {
     "data": {
      "text/html": [
       "<div>\n",
       "<style scoped>\n",
       "    .dataframe tbody tr th:only-of-type {\n",
       "        vertical-align: middle;\n",
       "    }\n",
       "\n",
       "    .dataframe tbody tr th {\n",
       "        vertical-align: top;\n",
       "    }\n",
       "\n",
       "    .dataframe thead th {\n",
       "        text-align: right;\n",
       "    }\n",
       "</style>\n",
       "<table border=\"1\" class=\"dataframe\">\n",
       "  <thead>\n",
       "    <tr style=\"text-align: right;\">\n",
       "      <th></th>\n",
       "      <th>gene_name</th>\n",
       "      <th>ensembl_id</th>\n",
       "      <th>n_cells</th>\n",
       "      <th>mt</th>\n",
       "      <th>n_cells_by_counts</th>\n",
       "      <th>mean_counts</th>\n",
       "      <th>pct_dropout_by_counts</th>\n",
       "      <th>total_counts</th>\n",
       "    </tr>\n",
       "  </thead>\n",
       "  <tbody>\n",
       "    <tr>\n",
       "      <th>AL627309.1</th>\n",
       "      <td>AL627309.1</td>\n",
       "      <td>ENSG00000238009</td>\n",
       "      <td>3</td>\n",
       "      <td>False</td>\n",
       "      <td>3</td>\n",
       "      <td>0.004116</td>\n",
       "      <td>99.7</td>\n",
       "      <td>4.115806</td>\n",
       "    </tr>\n",
       "    <tr>\n",
       "      <th>AL627309.5</th>\n",
       "      <td>AL627309.5</td>\n",
       "      <td>ENSG00000241860</td>\n",
       "      <td>10</td>\n",
       "      <td>False</td>\n",
       "      <td>10</td>\n",
       "      <td>0.014258</td>\n",
       "      <td>99.0</td>\n",
       "      <td>14.258169</td>\n",
       "    </tr>\n",
       "    <tr>\n",
       "      <th>LINC01409</th>\n",
       "      <td>LINC01409</td>\n",
       "      <td>ENSG00000237491</td>\n",
       "      <td>13</td>\n",
       "      <td>False</td>\n",
       "      <td>13</td>\n",
       "      <td>0.018464</td>\n",
       "      <td>98.7</td>\n",
       "      <td>18.464311</td>\n",
       "    </tr>\n",
       "    <tr>\n",
       "      <th>LINC01128</th>\n",
       "      <td>LINC01128</td>\n",
       "      <td>ENSG00000228794</td>\n",
       "      <td>25</td>\n",
       "      <td>False</td>\n",
       "      <td>25</td>\n",
       "      <td>0.037282</td>\n",
       "      <td>97.5</td>\n",
       "      <td>37.282384</td>\n",
       "    </tr>\n",
       "    <tr>\n",
       "      <th>LINC00115</th>\n",
       "      <td>LINC00115</td>\n",
       "      <td>ENSG00000225880</td>\n",
       "      <td>8</td>\n",
       "      <td>False</td>\n",
       "      <td>8</td>\n",
       "      <td>0.011289</td>\n",
       "      <td>99.2</td>\n",
       "      <td>11.289066</td>\n",
       "    </tr>\n",
       "  </tbody>\n",
       "</table>\n",
       "</div>"
      ],
      "text/plain": [
       "             gene_name       ensembl_id  n_cells     mt  n_cells_by_counts  \\\n",
       "AL627309.1  AL627309.1  ENSG00000238009        3  False                  3   \n",
       "AL627309.5  AL627309.5  ENSG00000241860       10  False                 10   \n",
       "LINC01409    LINC01409  ENSG00000237491       13  False                 13   \n",
       "LINC01128    LINC01128  ENSG00000228794       25  False                 25   \n",
       "LINC00115    LINC00115  ENSG00000225880        8  False                  8   \n",
       "\n",
       "            mean_counts  pct_dropout_by_counts  total_counts  \n",
       "AL627309.1     0.004116                   99.7      4.115806  \n",
       "AL627309.5     0.014258                   99.0     14.258169  \n",
       "LINC01409      0.018464                   98.7     18.464311  \n",
       "LINC01128      0.037282                   97.5     37.282384  \n",
       "LINC00115      0.011289                   99.2     11.289066  "
      ]
     },
     "execution_count": 33,
     "metadata": {},
     "output_type": "execute_result"
    }
   ],
   "source": [
    "adata.var.head()"
   ]
  },
  {
   "cell_type": "code",
   "execution_count": 34,
   "metadata": {},
   "outputs": [
    {
     "data": {
      "image/png": "[encoded data removed]",
      "text/plain": [
       "<Figure size 640x480 with 1 Axes>"
      ]
     },
     "metadata": {},
     "output_type": "display_data"
    }
   ],
   "source": [
    "sc.pl.umap(\n",
    "    adata,\n",
    "    color=\"cell_type\",\n",
    "    size=8,\n",
    "    title=\"Human Immune Tissue UMAP\",\n",
    ")"
   ]
  },
  {
   "cell_type": "code",
   "execution_count": 35,
   "metadata": {},
   "outputs": [
    {
     "data": {
      "text/plain": [
       "np.float64(1.000156046988993)"
      ]
     },
     "execution_count": 35,
     "metadata": {},
     "output_type": "execute_result"
    }
   ],
   "source": [
    "adata.X.max()"
   ]
  },
  {
   "cell_type": "markdown",
   "metadata": {},
   "source": [
    "We are expecting log10 base 10 transformed data, with a maximum value somewhere around 3 or 4. Make sure to start with processed and normalized data when doing the cell sentence conversion!"
   ]
  },
  {
   "cell_type": "markdown",
   "metadata": {},
   "source": [
    "# Cell2Sentence Conversion\n",
    "\n",
    "In this section, we will transform our AnnData object containing our single-cell dataset into a Cell2Sentence (C2S) dataset by calling the functions of the CSData class in the C2S code base. Full documentation for the functions of the CSData class can be found in the documentation page of C2S."
   ]
  },
  {
   "cell_type": "code",
   "execution_count": 36,
   "metadata": {},
   "outputs": [
    {
     "data": {
      "text/plain": [
       "['cell_type', 'disease', 'tissue', 'organism']"
      ]
     },
     "execution_count": 36,
     "metadata": {},
     "output_type": "execute_result"
    }
   ],
   "source": [
    "adata_obs_cols_to_keep = adata.obs.columns.tolist()\n",
    "adata_obs_cols_to_keep"
   ]
  },
  {
   "cell_type": "code",
   "execution_count": 37,
   "metadata": {},
   "outputs": [
    {
     "name": "stderr",
     "output_type": "stream",
     "text": [
      "WARN: more variables (14496) than observations (1000)... did you mean to transpose the object (e.g. adata.T)?\n",
      "WARN: more variables (14496) than observations (1000), did you mean to transpose the object (e.g. adata.T)?\n",
      "  0%|          | 0/1000 [00:00<?, ?it/s]"
     ]
    },
    {
     "name": "stderr",
     "output_type": "stream",
     "text": [
      "100%|██████████| 1000/1000 [00:00<00:00, 1628.48it/s]\n"
     ]
    }
   ],
   "source": [
    "# Create CSData object\n",
    "arrow_ds, vocabulary = cs.CSData.adata_to_arrow(\n",
    "    adata=adata, \n",
    "    random_state=SEED, \n",
    "    sentence_delimiter=' ',\n",
    "    label_col_names=adata_obs_cols_to_keep\n",
    ")"
   ]
  },
  {
   "cell_type": "code",
   "execution_count": 38,
   "metadata": {},
   "outputs": [
    {
     "data": {
      "text/plain": [
       "Dataset({\n",
       "    features: ['cell_name', 'cell_sentence', 'cell_type', 'disease', 'tissue', 'organism'],\n",
       "    num_rows: 1000\n",
       "})"
      ]
     },
     "execution_count": 38,
     "metadata": {},
     "output_type": "execute_result"
    }
   ],
   "source": [
    "arrow_ds"
   ]
  },
  {
   "cell_type": "code",
   "execution_count": 39,
   "metadata": {},
   "outputs": [
    {
     "data": {
      "text/plain": [
       "{'cell_name': '1637',\n",
       " 'cell_sentence': 'MALAT1 CD74 EEF1A1 RPS12 RPLP1 RPL19 MT-CO2 RPS27 RPS28 RPL13 RPL10 RPL28 RPL18A RPL32 RPL30 RPL39 RPL34 RPL37 RPS25 RPS7 RPS15A HLA-DRA RPS18 B2M RPL11 RPL29 RPS27A FAU RPL12 RPS23 RPS13 RPS15 RPS8 RPS6 RPS5 PTMA MT-CO3 RPL36 MT-ATP6 RPL18 MT-CO1 RPS3 RPL14 RPL8 MT-CYB RPS21 RPL10A RPL22 RPS24 RPL7A RPL24 TPT1 RPLP0 RPL26 RPL35A TMSB10 TMSB4X COX4I1 RPL21 RPSA RPS3A RPS2 FTH1 CD37 RACK1 RPS19 MT-ND1 UBC RPL23A EEF1G HLA-B RPS4X RPL35 RPL17 IGHM H3F3B UBA52 CD52 ACTB MT-ND3 PPIA MT-ND4L CIRBP OST4 RPL9 LAPTM5 HLA-DRB1 PPDPF EIF1 HLA-DPA1 RPS16 HMGB1 RPL3 RPL27 EEF1D RPS14 MBNL1 MT-ND5 RPS4Y1 HLA-DRB5 PFDN5 FTL MIF LSP1 MT-ND4 SRSF7 APRT TXNIP ATL2 SH3BGRL3 MT-ND2 HINT1 SYF2 EIF3F EMP3 HLA-A PIAS1 JUND SSU72 CYBA RPS9 EIF5B RPL41 RPS11 THOC2 RPL6 SMAP2 MAT2B UBB MT-ND6 SF1 PFN1 USP16 NPM1 ACTG1 MT-ATP8 TBRG1 NDUFB11 NAPA TPM3 SARAF HLA-DQB1 ANKRD44 ATP5MC2 CALCOCO2 SMDT1 LIMD2 CXCR4 RPL7 RPL4 CBX3 MS4A1 RPL36A IP6K2 RPLP2 EEF2 NDUFA2 PRPF38B RPL13A RPL5 RESF1 CD79A LRMP SNHG3 EEF1B2 DDX5 NACA BTG1 FOS RBM5 RPL37A ITGA4 TMEM80 PRR13 SNHG5 CSKMT CD83 SLC2A11 TBC1D14 CNST NSMCE3 ERICH1 FTO SYNCRIP COMMD6 ZNF100 RIPOR2 ARID5B RPS10-NUDT3 BTG2 UHMK1 GNG5 CCDC71L PABPC1 PHYKPL CD79B RAC2 PNRC1 SQSTM1 TMEM50A PRMT1 CDC42 QTRT1 SNRPF EPC1 NUDT9 HMGXB4 DYNLL2 YWHAZ EDC4 HNRNPA3 RPS29 RSF1 SELENOF YWHAQ CHD1 EP400 ZNF720 TMLHE MCTP2 HMGN3 ADSL PEBP1 SUGP2 ACBD6 BABAM2 IKZF1 APBB1IP WAKMAR2 COX7A2L GIHCG NAA38 BIRC6 ARL17A JAGN1 RAB18 PCBD2 CTNNBL1 SERF2 PTBP3 CLK1 FAM120AOS RBFA HECTD4 SSH2 DDX3Y PREPL AP3B1 DNPH1 RXYLT1 SFI1 BCL7C HNRNPA1 NCK1 SUB1 PPM1G NDUFAB1 BRD2 U2SURP RAB10 COX5B CD81 PARP1 INTS10 LINC02245 SAFB2 EIF1B-AS1 DIS3 MTF2 SWAP70 MYL6 GOLGA3 MAP3K11 MTDH NASP ACTR2 SMU1 YARS UCP2 ARHGAP24 ZNF32 XRN2 NDUFA12 GIT2 MRPL54 SLC9A3R1 TMED10 UFC1 CRTC2 SP100 ANKRD12 RBL2 CFL1 ITM2B ARF6 LACTB2 ARF1 ASXL1 KIN SNHG6 ATXN7 NME1 ZNRD1 LUC7L GGNBP2 NSD3 BRWD1 ZNF830 RPL15 C6ORF226 SMIM14 TUBA1A MGST3 SNRPB2 EIF3L SHC1 USF2 USP24 NUDT1 BAX CTSS LINC00926 CHMP1B KLF6 DHRS12 DNAJC21 TRABD PA2G4 ROCK1 HIGD2A GTF2B SATB1 UQCRH CCDC32 ALKBH7 PRRC2C XRRA1 HNRNPA2B1 TMEM59 ZBTB8OS RPL27A SRP9 CYB561A3 LYRM2 PTPRCAP AFF3 TMEM14C NDUFA9 AASDHPPT SPEN ILF2 METTL17 PTP4A2 TMSB15B-1 ZNF738 ZBTB48 EZH1 ELK3 RP9 JUN TXN KRTCAP2 SBDS ATP1A1 BTF3 RBM10 ZNF346 ATP5F1B UBL5 TCEAL4 EPS15L1 H3F3A LAMTOR1 UBE2D2 GUCD1 ARRDC2 HLA-DQA1 IRF2 CWC15 TUBA1B RBM19 RABAC1 PTRHD1 LINC01578 ARMCX3 TMA7 RNASE6 LINC02256 PSMG2 EEA1 CALM1 LINC00665 GSTM4 KLF3 SQLE IRF9 RALGPS2 U2AF1L4 SEC61B MARCH1 PEX11B ARHGAP17 KDM2A CTSZ PPP3CA INTS12 ARHGDIB HNRNPM MRPS18C PRKDC UBL3 RIF1 CLEC2D ZFAND4 SELENOH RBM15B U91328.1 SRSF3 CHD4 CCDC57 EMC4 NME3 ZNF717 GANC LLPH CD48 PCMT1 ATP6V1A CDK5RAP1 AL627171.2 RNASEK PIGH SLC39A6 ANGEL1 FCER2 FMNL1 MACROD2 XPC PAK1IP1 MSL1 TUBGCP3 PAK1 TMEM192 SCML1 EPHB6 SF3B2 AC007216.4 SLC25A46 TAF1D ADD1 HLA-DPB1 ACO1 FAM3C CMTM7 PSME2 ZFP36L1 KBTBD2 ST13 MRPL42 ABHD10 ITGB2 CDC42SE1 ARPC2 EIF3G DEF8 RNF13 S100A10 TRAF3IP3 BCCIP ASB3 AC022182.1 DHX16 GMFG LINC01781 CCNI PPP3CC FECH HDGFL2 DYNLRB1 MGAT5 NAXE UBE2V2 AKAP8L ALKBH2 AC011447.3 ZNF428 ENSA YDJC PSMC4 LMBRD1 TCL1A NT5C2 C12ORF43 SRP14 PLEKHM2 ZNF7 CBX7 YWHAE WIPF1 DBNL CBX1 ZFAS1 PNISR SNRNP35 GORASP2 AMD1 GLUL ISG20 ATXN2L SET RPS10 LRRC40 GSAP C19ORF38 TLE1 NFKBIA TSSC4 TUFM CAST PPP4R3A CPNE1 REX1BD AC097382.2 PTPRC NFATC1 BTLA G6PD PITHD1 CCDC59 SNRPE NUDT22 GPBP1 APH1A KLF2 RALGAPA1 HLA-C GOPC TAGLN2 ANKRD52 DDB1 RRM2B MRPL12 BPTF LCN10 MEF2C OAZ1 SNW1 CDK11A SNRPD3 STRN ZNF318 ABCD3 ZFP36 TRAPPC2L NHLRC3 IGKV1-39 RPS20 WASF2 CLNS1A USP6NL RAPGEF6 CD22 GGH LTB FBL GAS5 NDUFS7 AZIN1 MUTYH SLC38A10 COX7C KIF5B LIN52 SNX29 FAM32A TMBIM4 POLD4 LRRC58 DCAF17 ARGLU1 AFTPH SRSF2 ATG5 PTPN2 ZNF669 IDI1 ADPRM',\n",
       " 'cell_type': 'naive B cell',\n",
       " 'disease': 'normal',\n",
       " 'tissue': 'blood',\n",
       " 'organism': 'blood'}"
      ]
     },
     "execution_count": 39,
     "metadata": {},
     "output_type": "execute_result"
    }
   ],
   "source": [
    "sample_idx = 0\n",
    "arrow_ds[sample_idx]"
   ]
  },
  {
   "cell_type": "markdown",
   "metadata": {},
   "source": [
    "This time, we will leave off creating our CSData object until after we load our C2S model. This is because along with the model checkpoint, we saved the indices of train, val, and test set cells, which will allow us to select out test set cells for inference."
   ]
  },
  {
   "cell_type": "markdown",
   "metadata": {},
   "source": [
    "# Load C2S Model\n",
    "\n",
    "Now, we will load a C2S model with which we will do cell type annotation. For this tutorial, this model will be the C2S-Pythia-410M cell type prediction foundation model, which has already been trained to do cell type annotation on a diverse set of single-cell datasets from CellxGene and Human Cell Atlas. More details about this model can be found in the Model Zoo section of the GitHub ReadME, or in the Huggingface page of the C2S-Pythia model.\n",
    "\n",
    "We can define our CSModel object with our pretrained cell type prediction model as follows:"
   ]
  },
  {
   "cell_type": "code",
   "execution_count": 40,
   "metadata": {},
   "outputs": [
    {
     "name": "stdout",
     "output_type": "stream",
     "text": [
      "Using device: cuda\n"
     ]
    }
   ],
   "source": [
    "# Define CSModel object\n",
    "cell_type_prediction_model_path = \"/data/Mamba/Data/hf_cache/hub/models--vandijklab--C2S-Pythia-410m-cell-type-prediction/snapshots/5a4dc3b949b5868ca63752b37bc22e3b0216e435\"\n",
    "save_dir = \"./\"\n",
    "save_name = \"cell_type_pred_pythia_410M_inference\"\n",
    "csmodel = cs.CSModel(\n",
    "    model_name_or_path=cell_type_prediction_model_path,\n",
    "    save_dir=save_dir,\n",
    "    save_name=save_name\n",
    ")"
   ]
  },
  {
   "cell_type": "code",
   "execution_count": 41,
   "metadata": {},
   "outputs": [
    {
     "data": {
      "text/plain": [
       "Dataset({\n",
       "    features: ['cell_name', 'cell_sentence', 'cell_type', 'disease', 'tissue', 'organism'],\n",
       "    num_rows: 1000\n",
       "})"
      ]
     },
     "execution_count": 41,
     "metadata": {},
     "output_type": "execute_result"
    }
   ],
   "source": [
    "arrow_ds"
   ]
  },
  {
   "cell_type": "markdown",
   "metadata": {},
   "source": [
    "For this tutorial, we will select a subset of 100 cells to annotate from our dataset"
   ]
  },
  {
   "cell_type": "code",
   "execution_count": 42,
   "metadata": {},
   "outputs": [
    {
     "data": {
      "text/plain": [
       "Dataset({\n",
       "    features: ['cell_name', 'cell_sentence', 'cell_type', 'disease', 'tissue', 'organism'],\n",
       "    num_rows: 1000\n",
       "})"
      ]
     },
     "execution_count": 42,
     "metadata": {},
     "output_type": "execute_result"
    }
   ],
   "source": [
    "arrow_ds"
   ]
  },
  {
   "cell_type": "markdown",
   "metadata": {},
   "source": [
    "Now, we create our CSData object using this subset of cells which we want to annotate:"
   ]
  },
  {
   "cell_type": "code",
   "execution_count": 43,
   "metadata": {},
   "outputs": [],
   "source": [
    "c2s_save_dir = \"/home/scbjtfy/cell2sentence/tutorials/cell_type_pred_pythia_410M_inference\"  # C2S dataset will be saved into this directory\n",
    "c2s_save_name = \"cell_annotation_with_foundation_model\"  # This will be the name of our C2S dataset on disk"
   ]
  },
  {
   "cell_type": "code",
   "execution_count": 44,
   "metadata": {},
   "outputs": [
    {
     "data": {
      "application/vnd.jupyter.widget-view+json": {
       "model_id": "a77628df6e62496a92a32be2c5fb7989",
       "version_major": 2,
       "version_minor": 0
      },
      "text/plain": [
       "Saving the dataset (0/1 shards):   0%|          | 0/1000 [00:00<?, ? examples/s]"
      ]
     },
     "metadata": {},
     "output_type": "display_data"
    }
   ],
   "source": [
    "csdata = cs.CSData.csdata_from_arrow(\n",
    "    arrow_dataset=arrow_ds, \n",
    "    vocabulary=vocabulary,\n",
    "    save_dir=c2s_save_dir,\n",
    "    save_name=c2s_save_name,\n",
    "    dataset_backend=\"arrow\"\n",
    ")"
   ]
  },
  {
   "cell_type": "code",
   "execution_count": 45,
   "metadata": {},
   "outputs": [
    {
     "name": "stdout",
     "output_type": "stream",
     "text": [
      "CSData Object; Path=/home/scbjtfy/cell2sentence/tutorials/cell_type_pred_pythia_410M_inference/cell_annotation_with_foundation_model, Format=arrow\n"
     ]
    }
   ],
   "source": [
    "print(csdata)"
   ]
  },
  {
   "cell_type": "markdown",
   "metadata": {},
   "source": [
    "# Predict cell types\n",
    "\n",
    "Now that we have loaded our finetuned cell type prediction model and have our small set of cells to annotate, we will do cell type prediction inference using our C2S model. We can use the function predict_cell_types_of_data() from the tasks.py, which will take a CSModel() object and apply it to do cell type prediction on a CSData() object."
   ]
  },
  {
   "cell_type": "code",
   "execution_count": 46,
   "metadata": {},
   "outputs": [
    {
     "name": "stdout",
     "output_type": "stream",
     "text": [
      "Reloading model from path on disk: ./cell_type_pred_pythia_410M_inference\n",
      "Predicting cell types for 1000 cells using CSModel...\n"
     ]
    },
    {
     "name": "stderr",
     "output_type": "stream",
     "text": [
      "100%|██████████| 1000/1000 [10:11<00:00,  1.64it/s]\n"
     ]
    }
   ],
   "source": [
    "predicted_cell_types = predict_cell_types_of_data(\n",
    "    csdata=csdata,\n",
    "    csmodel=csmodel,\n",
    "    n_genes=200\n",
    ")"
   ]
  },
  {
   "cell_type": "code",
   "execution_count": 47,
   "metadata": {},
   "outputs": [
    {
     "data": {
      "text/plain": [
       "1000"
      ]
     },
     "execution_count": 47,
     "metadata": {},
     "output_type": "execute_result"
    }
   ],
   "source": [
    "len(predicted_cell_types)"
   ]
  },
  {
   "cell_type": "code",
   "execution_count": 48,
   "metadata": {},
   "outputs": [
    {
     "data": {
      "text/plain": [
       "['naive B cell.', 'B cell.', 'naive B cell.']"
      ]
     },
     "execution_count": 48,
     "metadata": {},
     "output_type": "execute_result"
    }
   ],
   "source": [
    "predicted_cell_types[:3]"
   ]
  },
  {
   "cell_type": "code",
   "execution_count": 49,
   "metadata": {},
   "outputs": [
    {
     "data": {
      "text/plain": [
       "Dataset({\n",
       "    features: ['cell_name', 'cell_sentence', 'cell_type', 'disease', 'tissue', 'organism'],\n",
       "    num_rows: 1000\n",
       "})"
      ]
     },
     "execution_count": 49,
     "metadata": {},
     "output_type": "execute_result"
    }
   ],
   "source": [
    "arrow_ds"
   ]
  },
  {
   "cell_type": "markdown",
   "metadata": {},
   "source": [
    "Now, we can see what labels our C2S model has predicted for these cells."
   ]
  },
  {
   "cell_type": "code",
   "execution_count": 50,
   "metadata": {},
   "outputs": [
    {
     "name": "stdout",
     "output_type": "stream",
     "text": [
      "Predicted label: naive B cell\n",
      "Ground truth label: naive B cell\n",
      "\n",
      "Predicted label: naive B cell\n",
      "Ground truth label: transitional stage B cell\n",
      "\n",
      "Predicted label: naive B cell\n",
      "Ground truth label: naive B cell\n",
      "\n",
      "Predicted label: naive B cell\n",
      "Ground truth label: naive B cell\n",
      "\n",
      "Predicted label: naive B cell\n",
      "Ground truth label: naive B cell\n",
      "\n",
      "Predicted label: naive B cell\n",
      "Ground truth label: transitional stage B cell\n",
      "\n",
      "Predicted label: naive B cell\n",
      "Ground truth label: naive B cell\n",
      "\n",
      "Predicted label: B cell\n",
      "Ground truth label: transitional stage B cell\n",
      "\n",
      "Predicted label: malignant cell\n",
      "Ground truth label: transitional stage B cell\n",
      "\n",
      "Predicted label: CD4-positive, alpha-beta T cell\n",
      "Ground truth label: central memory CD4-positive, alpha-beta T cell\n",
      "\n",
      "Predicted label: CD4-positive, alpha-beta T cell\n",
      "Ground truth label: regulatory T cell\n",
      "\n",
      "Predicted label: CD4-positive, alpha-beta T cell\n",
      "Ground truth label: central memory CD4-positive, alpha-beta T cell\n",
      "\n",
      "Predicted label: CD4-positive, alpha-beta T cell\n",
      "Ground truth label: regulatory T cell\n",
      "\n",
      "Predicted label: CD4-positive, alpha-beta T cell\n",
      "Ground truth label: effector memory CD4-positive, alpha-beta T cell\n",
      "\n",
      "Predicted label: CD4-positive, alpha-beta T cell\n",
      "Ground truth label: central memory CD4-positive, alpha-beta T cell\n",
      "\n",
      "Predicted label: central memory CD4-positive, alpha-beta T cell\n",
      "Ground truth label: central memory CD4-positive, alpha-beta T cell\n",
      "\n",
      "Predicted label: naive thymus-derived CD4-positive, alpha-beta T cell\n",
      "Ground truth label: naive thymus-derived CD4-positive, alpha-beta T cell\n",
      "\n",
      "Predicted label: CD4-positive, alpha-beta T cell\n",
      "Ground truth label: central memory CD4-positive, alpha-beta T cell\n",
      "\n",
      "Predicted label: central memory CD4-positive, alpha-beta T cell\n",
      "Ground truth label: central memory CD4-positive, alpha-beta T cell\n",
      "\n",
      "Predicted label: CD4-positive, alpha-beta T cell\n",
      "Ground truth label: naive thymus-derived CD4-positive, alpha-beta T cell\n",
      "\n",
      "Predicted label: naive thymus-derived CD4-positive, alpha-beta T cell\n",
      "Ground truth label: central memory CD4-positive, alpha-beta T cell\n",
      "\n",
      "Predicted label: CD4-positive, alpha-beta T cell\n",
      "Ground truth label: naive thymus-derived CD4-positive, alpha-beta T cell\n",
      "\n",
      "Predicted label: central memory CD4-positive, alpha-beta T cell\n",
      "Ground truth label: central memory CD4-positive, alpha-beta T cell\n",
      "\n",
      "Predicted label: CD4-positive, alpha-beta T cell\n",
      "Ground truth label: central memory CD4-positive, alpha-beta T cell\n",
      "\n",
      "Predicted label: CD4-positive, alpha-beta T cell\n",
      "Ground truth label: central memory CD4-positive, alpha-beta T cell\n",
      "\n",
      "Predicted label: naive thymus-derived CD4-positive, alpha-beta T cell\n",
      "Ground truth label: naive thymus-derived CD4-positive, alpha-beta T cell\n",
      "\n",
      "Predicted label: naive thymus-derived CD4-positive, alpha-beta T cell\n",
      "Ground truth label: naive thymus-derived CD4-positive, alpha-beta T cell\n",
      "\n",
      "Predicted label: naive thymus-derived CD4-positive, alpha-beta T cell\n",
      "Ground truth label: central memory CD4-positive, alpha-beta T cell\n",
      "\n",
      "Predicted label: CD4-positive, alpha-beta T cell\n",
      "Ground truth label: regulatory T cell\n",
      "\n",
      "Predicted label: CD4-positive, alpha-beta T cell\n",
      "Ground truth label: central memory CD4-positive, alpha-beta T cell\n",
      "\n",
      "Predicted label: naive thymus-derived CD4-positive, alpha-beta T cell\n",
      "Ground truth label: central memory CD4-positive, alpha-beta T cell\n",
      "\n",
      "Predicted label: naive thymus-derived CD4-positive, alpha-beta T cell\n",
      "Ground truth label: central memory CD4-positive, alpha-beta T cell\n",
      "\n",
      "Predicted label: CD4-positive helper T cell\n",
      "Ground truth label: central memory CD4-positive, alpha-beta T cell\n",
      "\n",
      "Predicted label: central memory CD4-positive, alpha-beta T cell\n",
      "Ground truth label: central memory CD4-positive, alpha-beta T cell\n",
      "\n",
      "Predicted label: effector memory CD4-positive, alpha-beta T cell\n",
      "Ground truth label: effector memory CD4-positive, alpha-beta T cell\n",
      "\n",
      "Predicted label: CD4-positive, alpha-beta T cell\n",
      "Ground truth label: regulatory T cell\n",
      "\n",
      "Predicted label: CD4-positive, alpha-beta T cell\n",
      "Ground truth label: regulatory T cell\n",
      "\n",
      "Predicted label: central memory CD4-positive, alpha-beta T cell\n",
      "Ground truth label: central memory CD4-positive, alpha-beta T cell\n",
      "\n",
      "Predicted label: CD4-positive, alpha-beta T cell\n",
      "Ground truth label: central memory CD4-positive, alpha-beta T cell\n",
      "\n",
      "Predicted label: naive thymus-derived CD4-positive, alpha-beta T cell\n",
      "Ground truth label: naive thymus-derived CD4-positive, alpha-beta T cell\n",
      "\n",
      "Predicted label: naive thymus-derived CD4-positive, alpha-beta T cell\n",
      "Ground truth label: central memory CD4-positive, alpha-beta T cell\n",
      "\n",
      "Predicted label: naive thymus-derived CD4-positive, alpha-beta T cell\n",
      "Ground truth label: central memory CD4-positive, alpha-beta T cell\n",
      "\n",
      "Predicted label: CD4-positive helper T cell\n",
      "Ground truth label: central memory CD4-positive, alpha-beta T cell\n",
      "\n",
      "Predicted label: CD4-positive, alpha-beta T cell\n",
      "Ground truth label: naive thymus-derived CD4-positive, alpha-beta T cell\n",
      "\n",
      "Predicted label: CD4-positive, alpha-beta T cell\n",
      "Ground truth label: regulatory T cell\n",
      "\n",
      "Predicted label: naive thymus-derived CD4-positive, alpha-beta T cell\n",
      "Ground truth label: naive thymus-derived CD4-positive, alpha-beta T cell\n",
      "\n",
      "Predicted label: CD4-positive helper T cell\n",
      "Ground truth label: central memory CD4-positive, alpha-beta T cell\n",
      "\n",
      "Predicted label: CD4-positive, alpha-beta T cell\n",
      "Ground truth label: central memory CD4-positive, alpha-beta T cell\n",
      "\n",
      "Predicted label: naive thymus-derived CD4-positive, alpha-beta T cell\n",
      "Ground truth label: gamma-delta T cell\n",
      "\n",
      "Predicted label: CD4-positive, alpha-beta T cell\n",
      "Ground truth label: central memory CD4-positive, alpha-beta T cell\n",
      "\n",
      "Predicted label: central memory CD4-positive, alpha-beta T cell\n",
      "Ground truth label: central memory CD4-positive, alpha-beta T cell\n",
      "\n",
      "Predicted label: central memory CD4-positive, alpha-beta T cell\n",
      "Ground truth label: central memory CD4-positive, alpha-beta T cell\n",
      "\n",
      "Predicted label: CD4-positive, alpha-beta T cell\n",
      "Ground truth label: central memory CD4-positive, alpha-beta T cell\n",
      "\n",
      "Predicted label: CD4-positive, alpha-beta T cell\n",
      "Ground truth label: central memory CD4-positive, alpha-beta T cell\n",
      "\n",
      "Predicted label: CD4-positive, alpha-beta T cell\n",
      "Ground truth label: effector memory CD4-positive, alpha-beta T cell\n",
      "\n",
      "Predicted label: naive thymus-derived CD4-positive, alpha-beta T cell\n",
      "Ground truth label: central memory CD4-positive, alpha-beta T cell\n",
      "\n",
      "Predicted label: naive thymus-derived CD4-positive, alpha-beta T cell\n",
      "Ground truth label: central memory CD4-positive, alpha-beta T cell\n",
      "\n",
      "Predicted label: naive thymus-derived CD4-positive, alpha-beta T cell\n",
      "Ground truth label: central memory CD4-positive, alpha-beta T cell\n",
      "\n",
      "Predicted label: CD4-positive, alpha-beta T cell\n",
      "Ground truth label: central memory CD4-positive, alpha-beta T cell\n",
      "\n",
      "Predicted label: CD4-positive, alpha-beta T cell\n",
      "Ground truth label: effector memory CD4-positive, alpha-beta T cell\n",
      "\n",
      "Predicted label: CD4-positive, alpha-beta T cell\n",
      "Ground truth label: central memory CD4-positive, alpha-beta T cell\n",
      "\n",
      "Predicted label: CD4-positive, alpha-beta T cell\n",
      "Ground truth label: naive thymus-derived CD4-positive, alpha-beta T cell\n",
      "\n",
      "Predicted label: CD4-positive, alpha-beta T cell\n",
      "Ground truth label: central memory CD4-positive, alpha-beta T cell\n",
      "\n",
      "Predicted label: CD4-positive, alpha-beta T cell\n",
      "Ground truth label: naive thymus-derived CD4-positive, alpha-beta T cell\n",
      "\n",
      "Predicted label: CD4-positive, alpha-beta T cell\n",
      "Ground truth label: central memory CD4-positive, alpha-beta T cell\n",
      "\n",
      "Predicted label: naive thymus-derived CD4-positive, alpha-beta T cell\n",
      "Ground truth label: central memory CD4-positive, alpha-beta T cell\n",
      "\n",
      "Predicted label: naive thymus-derived CD4-positive, alpha-beta T cell\n",
      "Ground truth label: naive thymus-derived CD4-positive, alpha-beta T cell\n",
      "\n",
      "Predicted label: naive thymus-derived CD4-positive, alpha-beta T cell\n",
      "Ground truth label: central memory CD4-positive, alpha-beta T cell\n",
      "\n",
      "Predicted label: naive thymus-derived CD4-positive, alpha-beta T cell\n",
      "Ground truth label: central memory CD4-positive, alpha-beta T cell\n",
      "\n",
      "Predicted label: central memory CD4-positive, alpha-beta T cell\n",
      "Ground truth label: central memory CD4-positive, alpha-beta T cell\n",
      "\n",
      "Predicted label: naive thymus-derived CD4-positive, alpha-beta T cell\n",
      "Ground truth label: regulatory T cell\n",
      "\n",
      "Predicted label: CD4-positive, alpha-beta T cell\n",
      "Ground truth label: effector memory CD4-positive, alpha-beta T cell\n",
      "\n",
      "Predicted label: CD4-positive, alpha-beta T cell\n",
      "Ground truth label: central memory CD4-positive, alpha-beta T cell\n",
      "\n",
      "Predicted label: naive thymus-derived CD4-positive, alpha-beta T cell\n",
      "Ground truth label: central memory CD4-positive, alpha-beta T cell\n",
      "\n",
      "Predicted label: naive thymus-derived CD4-positive, alpha-beta T cell\n",
      "Ground truth label: central memory CD4-positive, alpha-beta T cell\n",
      "\n",
      "Predicted label: naive thymus-derived CD4-positive, alpha-beta T cell\n",
      "Ground truth label: naive thymus-derived CD4-positive, alpha-beta T cell\n",
      "\n",
      "Predicted label: CD4-positive, alpha-beta T cell\n",
      "Ground truth label: central memory CD4-positive, alpha-beta T cell\n",
      "\n",
      "Predicted label: naive thymus-derived CD4-positive, alpha-beta T cell\n",
      "Ground truth label: naive thymus-derived CD4-positive, alpha-beta T cell\n",
      "\n",
      "Predicted label: CD4-positive, alpha-beta T cell\n",
      "Ground truth label: naive thymus-derived CD4-positive, alpha-beta T cell\n",
      "\n",
      "Predicted label: CD4-positive, alpha-beta T cell\n",
      "Ground truth label: central memory CD4-positive, alpha-beta T cell\n",
      "\n",
      "Predicted label: CD4-positive, alpha-beta T cell\n",
      "Ground truth label: central memory CD4-positive, alpha-beta T cell\n",
      "\n",
      "Predicted label: CD4-positive, alpha-beta T cell\n",
      "Ground truth label: effector memory CD4-positive, alpha-beta T cell\n",
      "\n",
      "Predicted label: naive thymus-derived CD4-positive, alpha-beta T cell\n",
      "Ground truth label: naive thymus-derived CD4-positive, alpha-beta T cell\n",
      "\n",
      "Predicted label: CD4-positive, alpha-beta T cell\n",
      "Ground truth label: effector memory CD4-positive, alpha-beta T cell\n",
      "\n",
      "Predicted label: CD4-positive, alpha-beta T cell\n",
      "Ground truth label: central memory CD4-positive, alpha-beta T cell\n",
      "\n",
      "Predicted label: CD4-positive, alpha-beta T cell\n",
      "Ground truth label: effector memory CD4-positive, alpha-beta T cell\n",
      "\n",
      "Predicted label: CD4-positive, alpha-beta T cell\n",
      "Ground truth label: central memory CD4-positive, alpha-beta T cell\n",
      "\n",
      "Predicted label: naive thymus-derived CD4-positive, alpha-beta T cell\n",
      "Ground truth label: naive thymus-derived CD4-positive, alpha-beta T cell\n",
      "\n",
      "Predicted label: naive thymus-derived CD4-positive, alpha-beta T cell\n",
      "Ground truth label: naive thymus-derived CD4-positive, alpha-beta T cell\n",
      "\n",
      "Predicted label: CD4-positive, alpha-beta T cell\n",
      "Ground truth label: central memory CD4-positive, alpha-beta T cell\n",
      "\n",
      "Predicted label: CD4-positive, alpha-beta T cell\n",
      "Ground truth label: central memory CD4-positive, alpha-beta T cell\n",
      "\n",
      "Predicted label: naive thymus-derived CD4-positive, alpha-beta T cell\n",
      "Ground truth label: naive thymus-derived CD4-positive, alpha-beta T cell\n",
      "\n",
      "Predicted label: naive thymus-derived CD4-positive, alpha-beta T cell\n",
      "Ground truth label: naive thymus-derived CD4-positive, alpha-beta T cell\n",
      "\n",
      "Predicted label: naive thymus-derived CD4-positive, alpha-beta T cell\n",
      "Ground truth label: central memory CD4-positive, alpha-beta T cell\n",
      "\n",
      "Predicted label: CD4-positive, alpha-beta T cell\n",
      "Ground truth label: effector memory CD4-positive, alpha-beta T cell\n",
      "\n",
      "Predicted label: CD4-positive, alpha-beta T cell\n",
      "Ground truth label: central memory CD4-positive, alpha-beta T cell\n",
      "\n",
      "Predicted label: CD4-positive, alpha-beta T cell\n",
      "Ground truth label: central memory CD4-positive, alpha-beta T cell\n",
      "\n",
      "Predicted label: CD4-positive, alpha-beta T cell\n",
      "Ground truth label: central memory CD4-positive, alpha-beta T cell\n",
      "\n",
      "Predicted label: naive thymus-derived CD4-positive, alpha-beta T cell\n",
      "Ground truth label: central memory CD4-positive, alpha-beta T cell\n",
      "\n",
      "Predicted label: naive thymus-derived CD4-positive, alpha-beta T cell\n",
      "Ground truth label: central memory CD4-positive, alpha-beta T cell\n",
      "\n",
      "Predicted label: CD4-positive, alpha-beta memory T cell\n",
      "Ground truth label: effector memory CD4-positive, alpha-beta T cell\n",
      "\n",
      "Predicted label: CD4-positive, alpha-beta T cell\n",
      "Ground truth label: central memory CD4-positive, alpha-beta T cell\n",
      "\n",
      "Predicted label: CD4-positive, alpha-beta T cell\n",
      "Ground truth label: central memory CD4-positive, alpha-beta T cell\n",
      "\n",
      "Predicted label: CD4-positive, alpha-beta T cell\n",
      "Ground truth label: central memory CD4-positive, alpha-beta T cell\n",
      "\n",
      "Predicted label: effector memory CD8-positive, alpha-beta T cell\n",
      "Ground truth label: effector memory CD8-positive, alpha-beta T cell\n",
      "\n",
      "Predicted label: naive thymus-derived CD4-positive, alpha-beta T cell\n",
      "Ground truth label: naive thymus-derived CD4-positive, alpha-beta T cell\n",
      "\n",
      "Predicted label: naive thymus-derived CD4-positive, alpha-beta T cell\n",
      "Ground truth label: naive thymus-derived CD8-positive, alpha-beta T cell\n",
      "\n",
      "Predicted label: CD8-positive, alpha-beta T cell\n",
      "Ground truth label: central memory CD8-positive, alpha-beta T cell\n",
      "\n",
      "Predicted label: naive thymus-derived CD4-positive, alpha-beta T cell\n",
      "Ground truth label: naive thymus-derived CD8-positive, alpha-beta T cell\n",
      "\n",
      "Predicted label: effector memory CD8-positive, alpha-beta T cell\n",
      "Ground truth label: effector memory CD8-positive, alpha-beta T cell\n",
      "\n",
      "Predicted label: CD8-positive, alpha-beta T cell\n",
      "Ground truth label: effector memory CD8-positive, alpha-beta T cell\n",
      "\n",
      "Predicted label: CD8-positive, alpha-beta T cell\n",
      "Ground truth label: effector memory CD8-positive, alpha-beta T cell\n",
      "\n",
      "Predicted label: naive thymus-derived CD8-positive, alpha-beta T cell\n",
      "Ground truth label: naive thymus-derived CD8-positive, alpha-beta T cell\n",
      "\n",
      "Predicted label: naive thymus-derived CD4-positive, alpha-beta T cell\n",
      "Ground truth label: naive thymus-derived CD8-positive, alpha-beta T cell\n",
      "\n",
      "Predicted label: effector memory CD8-positive, alpha-beta T cell\n",
      "Ground truth label: effector memory CD8-positive, alpha-beta T cell\n",
      "\n",
      "Predicted label: naive thymus-derived CD4-positive, alpha-beta T cell\n",
      "Ground truth label: naive thymus-derived CD8-positive, alpha-beta T cell\n",
      "\n",
      "Predicted label: effector memory CD8-positive, alpha-beta T cell\n",
      "Ground truth label: effector memory CD8-positive, alpha-beta T cell\n",
      "\n",
      "Predicted label: CD8-positive, alpha-beta T cell\n",
      "Ground truth label: naive thymus-derived CD8-positive, alpha-beta T cell\n",
      "\n",
      "Predicted label: CD4-positive, alpha-beta T cell\n",
      "Ground truth label: naive thymus-derived CD8-positive, alpha-beta T cell\n",
      "\n",
      "Predicted label: effector memory CD8-positive, alpha-beta T cell\n",
      "Ground truth label: natural killer cell\n",
      "\n",
      "Predicted label: CD8-positive, alpha-beta T cell\n",
      "Ground truth label: central memory CD8-positive, alpha-beta T cell\n",
      "\n",
      "Predicted label: effector memory CD8-positive, alpha-beta T cell\n",
      "Ground truth label: effector memory CD8-positive, alpha-beta T cell\n",
      "\n",
      "Predicted label: effector memory CD8-positive, alpha-beta T cell\n",
      "Ground truth label: effector memory CD8-positive, alpha-beta T cell\n",
      "\n",
      "Predicted label: CD8-positive, alpha-beta T cell\n",
      "Ground truth label: effector memory CD8-positive, alpha-beta T cell\n",
      "\n",
      "Predicted label: naive thymus-derived CD4-positive, alpha-beta T cell\n",
      "Ground truth label: naive thymus-derived CD8-positive, alpha-beta T cell\n",
      "\n",
      "Predicted label: naive thymus-derived CD8-positive, alpha-beta T cell\n",
      "Ground truth label: naive thymus-derived CD8-positive, alpha-beta T cell\n",
      "\n",
      "Predicted label: CD8-positive, alpha-beta T cell\n",
      "Ground truth label: effector memory CD8-positive, alpha-beta T cell\n",
      "\n",
      "Predicted label: CD4-positive, alpha-beta T cell\n",
      "Ground truth label: naive thymus-derived CD8-positive, alpha-beta T cell\n",
      "\n",
      "Predicted label: naive thymus-derived CD8-positive, alpha-beta T cell\n",
      "Ground truth label: naive thymus-derived CD8-positive, alpha-beta T cell\n",
      "\n",
      "Predicted label: naive thymus-derived CD8-positive, alpha-beta T cell\n",
      "Ground truth label: naive thymus-derived CD8-positive, alpha-beta T cell\n",
      "\n",
      "Predicted label: naive thymus-derived CD4-positive, alpha-beta T cell\n",
      "Ground truth label: naive thymus-derived CD8-positive, alpha-beta T cell\n",
      "\n",
      "Predicted label: CD8-positive, alpha-beta T cell\n",
      "Ground truth label: naive thymus-derived CD8-positive, alpha-beta T cell\n",
      "\n",
      "Predicted label: CD8-positive, alpha-beta T cell\n",
      "Ground truth label: gamma-delta T cell\n",
      "\n",
      "Predicted label: effector memory CD8-positive, alpha-beta T cell\n",
      "Ground truth label: effector memory CD8-positive, alpha-beta T cell\n",
      "\n",
      "Predicted label: CD4-positive, alpha-beta T cell\n",
      "Ground truth label: naive thymus-derived CD8-positive, alpha-beta T cell\n",
      "\n",
      "Predicted label: central memory CD4-positive, alpha-beta T cell\n",
      "Ground truth label: central memory CD4-positive, alpha-beta T cell\n",
      "\n",
      "Predicted label: central memory CD4-positive, alpha-beta T cell\n",
      "Ground truth label: central memory CD4-positive, alpha-beta T cell\n",
      "\n",
      "Predicted label: CD4-positive, alpha-beta T cell\n",
      "Ground truth label: central memory CD4-positive, alpha-beta T cell\n",
      "\n",
      "Predicted label: effector memory CD8-positive, alpha-beta T cell\n",
      "Ground truth label: mucosal invariant T cell\n",
      "\n",
      "Predicted label: gamma-delta T cell\n",
      "Ground truth label: mucosal invariant T cell\n",
      "\n",
      "Predicted label: effector memory CD8-positive, alpha-beta T cell\n",
      "Ground truth label: mucosal invariant T cell\n",
      "\n",
      "Predicted label: effector memory CD8-positive, alpha-beta T cell\n",
      "Ground truth label: natural killer cell\n",
      "\n",
      "Predicted label: effector memory CD8-positive, alpha-beta T cell\n",
      "Ground truth label: effector memory CD8-positive, alpha-beta T cell\n",
      "\n",
      "Predicted label: effector memory CD8-positive, alpha-beta T cell\n",
      "Ground truth label: gamma-delta T cell\n",
      "\n",
      "Predicted label: gamma-delta T cell\n",
      "Ground truth label: effector memory CD8-positive, alpha-beta T cell\n",
      "\n",
      "Predicted label: gamma-delta T cell\n",
      "Ground truth label: natural killer cell\n",
      "\n",
      "Predicted label: effector memory CD8-positive, alpha-beta T cell\n",
      "Ground truth label: natural killer cell\n",
      "\n",
      "Predicted label: effector memory CD8-positive, alpha-beta T cell\n",
      "Ground truth label: natural killer cell\n",
      "\n",
      "Predicted label: natural killer cell\n",
      "Ground truth label: natural killer cell\n",
      "\n",
      "Predicted label: natural killer cell\n",
      "Ground truth label: natural killer cell\n",
      "\n",
      "Predicted label: natural killer cell\n",
      "Ground truth label: natural killer cell\n",
      "\n",
      "Predicted label: natural killer cell\n",
      "Ground truth label: natural killer cell\n",
      "\n",
      "Predicted label: natural killer cell\n",
      "Ground truth label: natural killer cell\n",
      "\n",
      "Predicted label: effector memory CD8-positive, alpha-beta T cell\n",
      "Ground truth label: CD16-negative, CD56-bright natural killer cell, human\n",
      "\n",
      "Predicted label: natural killer cell\n",
      "Ground truth label: natural killer cell\n",
      "\n",
      "Predicted label: natural killer cell\n",
      "Ground truth label: natural killer cell\n",
      "\n",
      "Predicted label: natural killer cell\n",
      "Ground truth label: natural killer cell\n",
      "\n",
      "Predicted label: natural killer cell\n",
      "Ground truth label: natural killer cell\n",
      "\n",
      "Predicted label: natural killer cell\n",
      "Ground truth label: natural killer cell\n",
      "\n",
      "Predicted label: natural killer cell\n",
      "Ground truth label: natural killer cell\n",
      "\n",
      "Predicted label: natural killer cell\n",
      "Ground truth label: natural killer cell\n",
      "\n",
      "Predicted label: natural killer cell\n",
      "Ground truth label: natural killer cell\n",
      "\n",
      "Predicted label: natural killer cell\n",
      "Ground truth label: natural killer cell\n",
      "\n",
      "Predicted label: natural killer cell\n",
      "Ground truth label: natural killer cell\n",
      "\n",
      "Predicted label: natural killer cell\n",
      "Ground truth label: natural killer cell\n",
      "\n",
      "Predicted label: natural killer cell\n",
      "Ground truth label: natural killer cell\n",
      "\n",
      "Predicted label: natural killer cell\n",
      "Ground truth label: natural killer cell\n",
      "\n",
      "Predicted label: plasmacytoid dendritic cell\n",
      "Ground truth label: plasmacytoid dendritic cell\n",
      "\n",
      "Predicted label: plasmacytoid dendritic cell\n",
      "Ground truth label: plasmacytoid dendritic cell\n",
      "\n",
      "Predicted label: classical monocyte\n",
      "Ground truth label: CD14-positive monocyte\n",
      "\n",
      "Predicted label: classical monocyte\n",
      "Ground truth label: CD14-positive monocyte\n",
      "\n",
      "Predicted label: conventional dendritic cell\n",
      "Ground truth label: conventional dendritic cell\n",
      "\n",
      "Predicted label: non-classical monocyte\n",
      "Ground truth label: CD14-low, CD16-positive monocyte\n",
      "\n",
      "Predicted label: classical monocyte\n",
      "Ground truth label: CD14-positive monocyte\n",
      "\n",
      "Predicted label: classical monocyte\n",
      "Ground truth label: CD14-positive monocyte\n",
      "\n",
      "Predicted label: classical monocyte\n",
      "Ground truth label: CD14-positive monocyte\n",
      "\n",
      "Predicted label: non-classical monocyte\n",
      "Ground truth label: CD14-low, CD16-positive monocyte\n",
      "\n",
      "Predicted label: classical monocyte\n",
      "Ground truth label: CD14-positive monocyte\n",
      "\n",
      "Predicted label: classical monocyte\n",
      "Ground truth label: CD14-positive monocyte\n",
      "\n",
      "Predicted label: classical monocyte\n",
      "Ground truth label: CD14-positive monocyte\n",
      "\n",
      "Predicted label: classical monocyte\n",
      "Ground truth label: CD14-positive monocyte\n",
      "\n",
      "Predicted label: classical monocyte\n",
      "Ground truth label: CD14-positive monocyte\n",
      "\n",
      "Predicted label: non-classical monocyte\n",
      "Ground truth label: CD14-low, CD16-positive monocyte\n",
      "\n",
      "Predicted label: non-classical monocyte\n",
      "Ground truth label: CD14-low, CD16-positive monocyte\n",
      "\n",
      "Predicted label: classical monocyte\n",
      "Ground truth label: CD14-positive monocyte\n",
      "\n",
      "Predicted label: non-classical monocyte\n",
      "Ground truth label: CD14-low, CD16-positive monocyte\n",
      "\n",
      "Predicted label: classical monocyte\n",
      "Ground truth label: CD14-positive monocyte\n",
      "\n",
      "Predicted label: classical monocyte\n",
      "Ground truth label: CD14-positive monocyte\n",
      "\n",
      "Predicted label: classical monocyte\n",
      "Ground truth label: CD14-low, CD16-positive monocyte\n",
      "\n",
      "Predicted label: classical monocyte\n",
      "Ground truth label: CD14-low, CD16-positive monocyte\n",
      "\n",
      "Predicted label: classical monocyte\n",
      "Ground truth label: CD14-positive monocyte\n",
      "\n",
      "Predicted label: classical monocyte\n",
      "Ground truth label: CD14-low, CD16-positive monocyte\n",
      "\n",
      "Predicted label: classical monocyte\n",
      "Ground truth label: CD14-positive monocyte\n",
      "\n",
      "Predicted label: classical monocyte\n",
      "Ground truth label: CD14-positive monocyte\n",
      "\n",
      "Predicted label: classical monocyte\n",
      "Ground truth label: CD14-positive monocyte\n",
      "\n",
      "Predicted label: non-classical monocyte\n",
      "Ground truth label: CD14-low, CD16-positive monocyte\n",
      "\n",
      "Predicted label: classical monocyte\n",
      "Ground truth label: CD14-positive monocyte\n",
      "\n",
      "Predicted label: classical monocyte\n",
      "Ground truth label: CD14-positive monocyte\n",
      "\n",
      "Predicted label: classical monocyte\n",
      "Ground truth label: CD14-positive monocyte\n",
      "\n",
      "Predicted label: classical monocyte\n",
      "Ground truth label: CD14-positive monocyte\n",
      "\n"
     ]
    }
   ],
   "source": [
    "for model_pred, gt_label in zip(predicted_cell_types[::5], arrow_ds[\"cell_type\"][::5]):\n",
    "    # C2S might predict a period at the end of the cell type, which we remove\n",
    "    if model_pred[-1] == \".\":\n",
    "        model_pred = model_pred[:-1]\n",
    "    \n",
    "    print(\"Predicted label: {}\\nGround truth label: {}\\n\".format(model_pred, gt_label))"
   ]
  },
  {
   "cell_type": "code",
   "execution_count": 51,
   "metadata": {},
   "outputs": [
    {
     "data": {
      "text/plain": [
       "1000"
      ]
     },
     "execution_count": 51,
     "metadata": {},
     "output_type": "execute_result"
    }
   ],
   "source": [
    "len(predicted_cell_types)"
   ]
  },
  {
   "cell_type": "code",
   "execution_count": 52,
   "metadata": {},
   "outputs": [
    {
     "name": "stdout",
     "output_type": "stream",
     "text": [
      "\n",
      "✅ 已保存到: c2s_A013_predict.csv\n",
      "共保存 1000 条记录。\n"
     ]
    }
   ],
   "source": [
    "import pandas as pd\n",
    "\n",
    "# 假设你的变量如下：\n",
    "# predicted_cell_types = [...]\n",
    "# arrow_ds[\"cell_type\"] = [...]\n",
    "\n",
    "# 创建列表保存结果\n",
    "results = []\n",
    "\n",
    "for model_pred, gt_label in zip(predicted_cell_types, arrow_ds[\"cell_type\"]):\n",
    "    # 去掉末尾句号\n",
    "    if model_pred.endswith(\".\"):\n",
    "        model_pred = model_pred[:-1]\n",
    "    \n",
    "    # 保存到列表\n",
    "    results.append({\"Predicted\": model_pred, \"GroundTruth\": gt_label})\n",
    "\n",
    "# 转成 DataFrame\n",
    "df = pd.DataFrame(results)\n",
    "\n",
    "# 保存为 CSV 文件\n",
    "output_path = \"c2s_A013_predict.csv\"\n",
    "df.to_csv(output_path, index=False, encoding=\"utf-8-sig\")\n",
    "\n",
    "print(f\"\\n✅ 已保存到: {output_path}\")\n",
    "print(f\"共保存 {len(df)} 条记录。\")\n"
   ]
  },
  {
   "cell_type": "markdown",
   "metadata": {},
   "source": [
    "We can see that our C2S model makes accurate predictions at the cell type, however because of slight differences in cell type annotations, C2S sometimes does not get the correct cell type label. This is still useful, however, because this annotation ability of C2S can be used on new datasets with unknown cells to examine groups of cells. Because C2S can flexibly predict cell type annotations in natural language, we can annotate new cells using C2S as a quick way of checking and exploring clusters of cells in new or unknown data!"
   ]
  },
  {
   "cell_type": "markdown",
   "metadata": {},
   "source": []
  }
 ],
 "metadata": {
  "kernelspec": {
   "display_name": "Axolotl",
   "language": "python",
   "name": "python3"
  },
  "language_info": {
   "codemirror_mode": {
    "name": "ipython",
    "version": 3
   },
   "file_extension": ".py",
   "mimetype": "text/x-python",
   "name": "python",
   "nbconvert_exporter": "python",
   "pygments_lexer": "ipython3",
   "version": "3.11.13"
  },
  "orig_nbformat": 4
 },
 "nbformat": 4,
 "nbformat_minor": 2
}
